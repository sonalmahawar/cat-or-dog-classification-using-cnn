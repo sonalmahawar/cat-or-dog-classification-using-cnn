{
 "cells": [
  {
   "cell_type": "markdown",
   "metadata": {
    "id": "QP0YW5iZhlyL"
   },
   "source": [
    "Importing the libraries"
   ]
  },
  {
   "cell_type": "code",
   "execution_count": 1,
   "metadata": {
    "id": "NACm1BxVhrA2"
   },
   "outputs": [],
   "source": [
    "import tensorflow as tf\n",
    "from keras.preprocessing.image import ImageDataGenerator"
   ]
  },
  {
   "cell_type": "markdown",
   "metadata": {
    "id": "RQYmQ9YTEnj1"
   },
   "source": [
    "PART 1 Preprocessing the dataset"
   ]
  },
  {
   "cell_type": "markdown",
   "metadata": {
    "id": "so4mgpWVFDp7"
   },
   "source": [
    "Preprocessing the Training set"
   ]
  },
  {
   "cell_type": "code",
   "execution_count": 3,
   "metadata": {
    "colab": {
     "base_uri": "https://localhost:8080/"
    },
    "id": "qMHu3H0yiEJz",
    "outputId": "66cb4c65-d6eb-4b37-9f17-51f696420a37"
   },
   "outputs": [
    {
     "name": "stdout",
     "output_type": "stream",
     "text": [
      "Found 4835 images belonging to 2 classes.\n"
     ]
    }
   ],
   "source": [
    "train_datagen = ImageDataGenerator(rescale = 1./255,\n",
    "                                   shear_range = 0.2,\n",
    "                                   zoom_range = 0.2,\n",
    "                                   horizontal_flip = True)\n",
    "training_set = train_datagen.flow_from_directory('dataset/training_set',\n",
    "                                                 target_size = (64, 64),\n",
    "                                                 batch_size = 32,\n",
    "                                                 class_mode = 'binary')"
   ]
  },
  {
   "cell_type": "markdown",
   "metadata": {
    "id": "_5D63jzTw-0m"
   },
   "source": [
    "Preprocessing the Test set"
   ]
  },
  {
   "cell_type": "code",
   "execution_count": 4,
   "metadata": {
    "colab": {
     "base_uri": "https://localhost:8080/"
    },
    "id": "lHoZQWxXwFiX",
    "outputId": "6641b78b-b096-45db-dd80-39cdae7416d8"
   },
   "outputs": [
    {
     "name": "stdout",
     "output_type": "stream",
     "text": [
      "Found 1555 images belonging to 2 classes.\n"
     ]
    }
   ],
   "source": [
    "test_datagen = ImageDataGenerator(rescale = 1./255)\n",
    "test_set = test_datagen.flow_from_directory('dataset/test_set',\n",
    "                                                 target_size = (64, 64),\n",
    "                                                 batch_size = 32,\n",
    "                                                 class_mode = 'binary')"
   ]
  },
  {
   "cell_type": "markdown",
   "metadata": {
    "id": "xJh0a35wDrR_"
   },
   "source": [
    "Part 2 - Building the CNN"
   ]
  },
  {
   "cell_type": "markdown",
   "metadata": {
    "id": "cssr7OwDDzcx"
   },
   "source": [
    "Initialising the CNN"
   ]
  },
  {
   "cell_type": "code",
   "execution_count": 5,
   "metadata": {
    "id": "3KEf1asOx162"
   },
   "outputs": [],
   "source": [
    "cnn = tf.keras.models.Sequential()"
   ]
  },
  {
   "cell_type": "markdown",
   "metadata": {
    "id": "Awzo_Fvmt5su"
   },
   "source": [
    "Step 1 - Convolution"
   ]
  },
  {
   "cell_type": "code",
   "execution_count": 6,
   "metadata": {
    "id": "8jgiCx02DvRf"
   },
   "outputs": [],
   "source": [
    "cnn.add(tf.keras.layers.Conv2D(filters = 32,kernel_size = 3, activation = 'relu', input_shape = [64,64,3])) "
   ]
  },
  {
   "cell_type": "markdown",
   "metadata": {
    "id": "NUR_Q-s__hCY"
   },
   "source": [
    "Step 2 - Pooling"
   ]
  },
  {
   "cell_type": "code",
   "execution_count": 7,
   "metadata": {
    "id": "5YgIJuBB_NNO"
   },
   "outputs": [],
   "source": [
    "cnn.add(tf.keras.layers.MaxPool2D(pool_size= 2, strides= 2))"
   ]
  },
  {
   "cell_type": "markdown",
   "metadata": {
    "id": "IP0YiAN6A2pF"
   },
   "source": [
    "Adding a second convolutional layer"
   ]
  },
  {
   "cell_type": "code",
   "execution_count": 8,
   "metadata": {
    "id": "lxdt4ry0Aun7"
   },
   "outputs": [],
   "source": [
    "cnn.add(tf.keras.layers.Conv2D(filters = 32,kernel_size = 3, activation = 'relu')) \n",
    "cnn.add(tf.keras.layers.MaxPool2D(pool_size= 2, strides= 2))"
   ]
  },
  {
   "cell_type": "markdown",
   "metadata": {
    "id": "QYB0AbAtBTy8"
   },
   "source": [
    "Step 3 - Flattening"
   ]
  },
  {
   "cell_type": "code",
   "execution_count": 9,
   "metadata": {
    "id": "tr18mUDzBP3c"
   },
   "outputs": [],
   "source": [
    "cnn.add(tf.keras.layers.Flatten())"
   ]
  },
  {
   "cell_type": "markdown",
   "metadata": {
    "id": "BJyt4EmOBkim"
   },
   "source": [
    "Step 4 - Full Connection"
   ]
  },
  {
   "cell_type": "code",
   "execution_count": 10,
   "metadata": {
    "id": "BBTMiGJhBfI6"
   },
   "outputs": [],
   "source": [
    "cnn.add(tf.keras.layers.Dense(units= 128, activation= 'relu'))"
   ]
  },
  {
   "cell_type": "markdown",
   "metadata": {
    "id": "BtVT4g4WCMvC"
   },
   "source": [
    "Step 5 - Output Layer"
   ]
  },
  {
   "cell_type": "code",
   "execution_count": 11,
   "metadata": {
    "id": "RLc-x1sFCCTW"
   },
   "outputs": [],
   "source": [
    "cnn.add(tf.keras.layers.Dense(units= 1, activation= 'sigmoid'))"
   ]
  },
  {
   "cell_type": "markdown",
   "metadata": {
    "id": "8qTz-z8bCoCq"
   },
   "source": [
    "Part 3 - Training the CNN"
   ]
  },
  {
   "cell_type": "markdown",
   "metadata": {
    "id": "swmPISDbCoYt"
   },
   "source": [
    "Compiling the CNN"
   ]
  },
  {
   "cell_type": "code",
   "execution_count": 12,
   "metadata": {
    "id": "J2nVMq7MCT81"
   },
   "outputs": [],
   "source": [
    "cnn.compile(optimizer= 'adam', loss = 'binary_crossentropy', metrics = ['accuracy'])"
   ]
  },
  {
   "cell_type": "markdown",
   "metadata": {
    "id": "YtPlbk8MDk2X"
   },
   "source": [
    "Training the CNN on the Training set and evaluating it on the Test set\n"
   ]
  },
  {
   "cell_type": "code",
   "execution_count": 13,
   "metadata": {
    "colab": {
     "base_uri": "https://localhost:8080/",
     "height": 332
    },
    "id": "zok2CHjkDf49",
    "outputId": "eedf205a-ba8b-471e-9a00-a481d1960ebd"
   },
   "outputs": [
    {
     "name": "stdout",
     "output_type": "stream",
     "text": [
      "Epoch 1/25\n",
      "152/152 [==============================] - 183s 1s/step - loss: 0.7044 - accuracy: 0.5126 - val_loss: 0.6824 - val_accuracy: 0.5987\n",
      "Epoch 2/25\n",
      "152/152 [==============================] - 48s 314ms/step - loss: 0.6703 - accuracy: 0.5931 - val_loss: 0.6535 - val_accuracy: 0.6219\n",
      "Epoch 3/25\n",
      "152/152 [==============================] - 48s 313ms/step - loss: 0.6309 - accuracy: 0.6494 - val_loss: 0.6077 - val_accuracy: 0.6855\n",
      "Epoch 4/25\n",
      "152/152 [==============================] - 48s 313ms/step - loss: 0.5965 - accuracy: 0.6841 - val_loss: 0.6092 - val_accuracy: 0.6746\n",
      "Epoch 5/25\n",
      "152/152 [==============================] - 47s 312ms/step - loss: 0.5642 - accuracy: 0.7088 - val_loss: 0.6060 - val_accuracy: 0.6759\n",
      "Epoch 6/25\n",
      "152/152 [==============================] - 48s 313ms/step - loss: 0.5304 - accuracy: 0.7397 - val_loss: 0.5257 - val_accuracy: 0.7389\n",
      "Epoch 7/25\n",
      "152/152 [==============================] - 48s 315ms/step - loss: 0.4968 - accuracy: 0.7533 - val_loss: 0.5393 - val_accuracy: 0.7389\n",
      "Epoch 8/25\n",
      "152/152 [==============================] - 48s 312ms/step - loss: 0.4884 - accuracy: 0.7734 - val_loss: 0.5171 - val_accuracy: 0.7588\n",
      "Epoch 9/25\n",
      "152/152 [==============================] - 47s 309ms/step - loss: 0.4578 - accuracy: 0.7799 - val_loss: 0.4974 - val_accuracy: 0.7717\n",
      "Epoch 10/25\n",
      "152/152 [==============================] - 46s 305ms/step - loss: 0.4361 - accuracy: 0.7879 - val_loss: 0.4912 - val_accuracy: 0.7691\n",
      "Epoch 11/25\n",
      "152/152 [==============================] - 46s 304ms/step - loss: 0.4246 - accuracy: 0.7974 - val_loss: 0.5238 - val_accuracy: 0.7659\n",
      "Epoch 12/25\n",
      "152/152 [==============================] - 49s 326ms/step - loss: 0.4028 - accuracy: 0.8171 - val_loss: 0.4776 - val_accuracy: 0.7691\n",
      "Epoch 13/25\n",
      "152/152 [==============================] - 45s 299ms/step - loss: 0.3972 - accuracy: 0.8232 - val_loss: 0.4920 - val_accuracy: 0.7698\n",
      "Epoch 14/25\n",
      "152/152 [==============================] - 38s 249ms/step - loss: 0.3975 - accuracy: 0.8112 - val_loss: 0.5201 - val_accuracy: 0.7704\n",
      "Epoch 15/25\n",
      "152/152 [==============================] - 36s 239ms/step - loss: 0.3624 - accuracy: 0.8450 - val_loss: 0.4957 - val_accuracy: 0.7717\n",
      "Epoch 16/25\n",
      "152/152 [==============================] - 37s 242ms/step - loss: 0.3727 - accuracy: 0.8305 - val_loss: 0.4830 - val_accuracy: 0.7936\n",
      "Epoch 17/25\n",
      "152/152 [==============================] - 38s 247ms/step - loss: 0.3420 - accuracy: 0.8563 - val_loss: 0.5127 - val_accuracy: 0.7833\n",
      "Epoch 18/25\n",
      "152/152 [==============================] - 37s 245ms/step - loss: 0.3297 - accuracy: 0.8513 - val_loss: 0.4762 - val_accuracy: 0.7891\n",
      "Epoch 19/25\n",
      "152/152 [==============================] - 37s 241ms/step - loss: 0.3293 - accuracy: 0.8572 - val_loss: 0.5166 - val_accuracy: 0.7891\n",
      "Epoch 20/25\n",
      "152/152 [==============================] - 37s 245ms/step - loss: 0.3054 - accuracy: 0.8682 - val_loss: 0.4974 - val_accuracy: 0.7846\n",
      "Epoch 21/25\n",
      "152/152 [==============================] - 37s 241ms/step - loss: 0.2839 - accuracy: 0.8739 - val_loss: 0.4990 - val_accuracy: 0.7878\n",
      "Epoch 22/25\n",
      "152/152 [==============================] - 37s 244ms/step - loss: 0.2759 - accuracy: 0.8874 - val_loss: 0.5714 - val_accuracy: 0.7820\n",
      "Epoch 23/25\n",
      "152/152 [==============================] - 40s 261ms/step - loss: 0.2720 - accuracy: 0.8880 - val_loss: 0.5409 - val_accuracy: 0.7826\n",
      "Epoch 24/25\n",
      "152/152 [==============================] - 45s 294ms/step - loss: 0.2444 - accuracy: 0.8996 - val_loss: 0.5392 - val_accuracy: 0.7859\n",
      "Epoch 25/25\n",
      "152/152 [==============================] - 47s 313ms/step - loss: 0.2186 - accuracy: 0.9153 - val_loss: 0.5391 - val_accuracy: 0.7788\n"
     ]
    },
    {
     "data": {
      "text/plain": [
       "<tensorflow.python.keras.callbacks.History at 0x21f0f20a940>"
      ]
     },
     "execution_count": 13,
     "metadata": {},
     "output_type": "execute_result"
    }
   ],
   "source": [
    "cnn.fit(x = training_set, validation_data= test_set, epochs = 25)"
   ]
  },
  {
   "cell_type": "markdown",
   "metadata": {
    "id": "QGxgUiBWEmND"
   },
   "source": [
    "Part 4 - Making a single prediction"
   ]
  },
  {
   "cell_type": "code",
   "execution_count": 18,
   "metadata": {
    "id": "ar0nNgKmEIq3"
   },
   "outputs": [],
   "source": [
    "import numpy as np\n",
    "from keras.preprocessing import image\n",
    "test_image = image.load_img('dataset/single_prediction/cat_or_dog_1.jpg',target_size = (64,64))\n",
    "test_image = image.img_to_array(test_image)\n",
    "test_image = np.expand_dims(test_image, axis = 0)\n",
    "result = cnn.predict(test_image)\n",
    "if result[0][0] == 1:\n",
    "  prediction = 'dog'\n",
    "else:\n",
    "  prediction = 'cat'"
   ]
  },
  {
   "cell_type": "code",
   "execution_count": 19,
   "metadata": {
    "id": "P1cPMzexG8RB"
   },
   "outputs": [
    {
     "name": "stdout",
     "output_type": "stream",
     "text": [
      "dog\n"
     ]
    }
   ],
   "source": [
    "print(prediction)"
   ]
  },
  {
   "cell_type": "code",
   "execution_count": 22,
   "metadata": {},
   "outputs": [],
   "source": [
    "test_image = image.load_img('dataset/single_prediction/cat_or_dog_3.jpg',target_size = (64,64))\n",
    "test_image = image.img_to_array(test_image)\n",
    "test_image = np.expand_dims(test_image, axis = 0)\n",
    "result = cnn.predict(test_image)\n",
    "if result[0][0] == 1:\n",
    "  prediction = 'dog'\n",
    "else:\n",
    "  prediction = 'cat'"
   ]
  },
  {
   "cell_type": "code",
   "execution_count": 23,
   "metadata": {},
   "outputs": [
    {
     "name": "stdout",
     "output_type": "stream",
     "text": [
      "cat\n"
     ]
    }
   ],
   "source": [
    "print(prediction)"
   ]
  },
  {
   "cell_type": "code",
   "execution_count": null,
   "metadata": {},
   "outputs": [],
   "source": []
  }
 ],
 "metadata": {
  "colab": {
   "name": "Classification of cats and dogs using cnn.ipynb",
   "provenance": []
  },
  "kernelspec": {
   "display_name": "Python 3",
   "language": "python",
   "name": "python3"
  },
  "language_info": {
   "codemirror_mode": {
    "name": "ipython",
    "version": 3
   },
   "file_extension": ".py",
   "mimetype": "text/x-python",
   "name": "python",
   "nbconvert_exporter": "python",
   "pygments_lexer": "ipython3",
   "version": "3.8.5"
  }
 },
 "nbformat": 4,
 "nbformat_minor": 1
}
